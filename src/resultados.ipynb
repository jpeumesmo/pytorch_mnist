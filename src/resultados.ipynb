{
 "cells": [
  {
   "cell_type": "markdown",
   "metadata": {},
   "source": [
    "## Como Visualizar o Aprendizado do seu modelo ##\n",
    "\n",
    "Existe uma ferramenta muito útil desenvolvida pelo Google chamada [TensorBoard](https://www.tensorflow.org/tensorboard). Com o TensorBoard é possível acompanhar a variação da nossa função de perda _loss funciton_ e da acurácia do modelo por exemplo. \n",
    "\n",
    "O TensorBorad permite a visualização de diversos outros tipos de dados, entre eles imagens, gif's, espaço de características, histogramas, etc.\n",
    "\n",
    "### Instalando o TensorBoard ###\n",
    "Para utilizar o TensorBoard será necessário instalar alguns pacotes. Você deve utilizar o seu gerenciador de pacotes python de preferência para instalar o pacote ```tensorboard```, caso você utilize o **pip** você pode encontrar mais informações [aqui](https://pypi.org/project/tensorboard/)"
   ]
  },
  {
   "cell_type": "markdown",
   "metadata": {},
   "source": [
    "### Utilizando o TensorBorad ###\n",
    "\n",
    "Para utilizar o TensorBoard através do PyTorch precisamos compreender algumas coisas. \n",
    "\n",
    "Primeiro, o TensorBoard funciona através de _summaries_, ou seja, nós criamos pastas com _log's_ do nossos resultados que queremos visualziar. \n",
    "\n",
    "Para criar um sumário em PyTorch utilizamos o seguinte código.\n",
    "```python\n",
    "#import da biblioteca que da suporte ao tensorboard\n",
    "from torch.utils.tensorboard import SummaryWriter\n",
    "\n",
    "summary = SummaryWriter(log_dir=args.summary)\n",
    "\n",
    "```\n",
    "\n",
    "Com nossa váriavel **summary** podemos realizar operações de escrita de dados para acompanhar o processo de aprendizado do modelo que nós estamos trabalhando.\n",
    "\n",
    "Na maioria das vezes estamos interesasdos em dados escalares como a função de perda e a acurácia do modelo. Por exemplo, para adicionar um valor escalar em um gráfico no TensorBoard podemos utilizar a seguinte sintaxe python:\n",
    "\n",
    "```python\n",
    "summary.add_scalar('Teste/Loss', test_loss,epoch )\n",
    "summary.add_scalar('Teste/Accuracy',100. * correct / len(test_loader.dataset),epoch)\n",
    "```\n",
    "\n",
    "O primeiiro argumento é o nome do dado que estamos querendo analisar, o segundo valor é o valor propriamente dito do dado (seu valor em y), e o terceiro é o estágio dele (seu valor em x)."
   ]
  },
  {
   "cell_type": "markdown",
   "metadata": {},
   "source": [
    "### Visualizando os dados com TensorBoard ###\n",
    "Para inicializar o TensorBoard e começarmos a ver nosso progresso precisamos executar o seguinte comando: \n",
    "\n",
    "```\n",
    "tensorboard --logdir path_onde_salvou_os_sumarios\n",
    "```\n",
    "\n",
    "Pronto, se tudo foi instalado corretamente e seus sumários feitos corretamente, você deve ser capaz de visualizar uma página web como a da imagem abaixo no link criado pelo TensorBoard.\n",
    "\n",
    "![](imgs/tensorboard.png)\n",
    "\n",
    "Você pode variar os paramêtros de visualização o quanto quiser, mas o importante é que gráficos sobre os dados do seu interesse estão sendo gerados em tempo real. Veja nas images abaixo esses gráficos:\n",
    "\n",
    "![Dados da função de perda durante o treino](imgs/treino.png)\n",
    "\n",
    "![Dados da função de perda e da acurácia durante o teste](imgs/treino.png)\n",
    "\n",
    "Você pode perceber que é possível organizar os gráficos da maneira que você quiser para facilitar sua compreensão dos dados."
   ]
  },
  {
   "cell_type": "markdown",
   "metadata": {},
   "source": [
    "O TensorBoard pode mostar para você um monte de dados desde que esteja disponível e você realize a escrita desses dados nos sumário.\n",
    "\n",
    "![](imgs/histograms.png)\n",
    "<center></center>\n",
    "\n",
    "Na imagem acima pode-se observar o tipo de dados histogramas sendo visualizado pelo TensorBoard. Dados de histogramas podem ser úteis para visualizar a variação dos pesos do seu modelo por exemplo.\n",
    "\n",
    "![](imgs/embed.gif)\n",
    "Na imagem acima pode-se observa o tipo de dados de espaço de características. Espaços de características podem ser muito úteis para você para realmente compreender o que está acontecendo com seu modelo, ao invés de ficar visualizando um monte de números você pode observar como o seu modelo interpreta os dados de entrada individualmente."
   ]
  }
 ],
 "metadata": {
  "kernelspec": {
   "display_name": "Python 3",
   "language": "python",
   "name": "python3"
  },
  "language_info": {
   "codemirror_mode": {
    "name": "ipython",
    "version": 3
   },
   "file_extension": ".py",
   "mimetype": "text/x-python",
   "name": "python",
   "nbconvert_exporter": "python",
   "pygments_lexer": "ipython3",
   "version": "3.5.2"
  }
 },
 "nbformat": 4,
 "nbformat_minor": 2
}
